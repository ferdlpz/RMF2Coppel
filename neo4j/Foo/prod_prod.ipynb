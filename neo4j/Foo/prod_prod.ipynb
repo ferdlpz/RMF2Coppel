{
 "cells": [
  {
   "cell_type": "code",
   "execution_count": 1,
   "metadata": {},
   "outputs": [],
   "source": [
    "import nltk\n",
    "from nltk.tokenize.toktok import ToktokTokenizer\n",
    "from nltk.stem import SnowballStemmer\n",
    "from nltk.corpus import stopwords\n",
    "from gensim.models import TfidfModel\n",
    "#!pip install --upgrade gensim\n",
    "import os \n",
    "from functools import reduce\n",
    "import pandas as pd\n",
    "import numpy as np\n",
    "from collections import Counter\n",
    "from wordcloud import WordCloud\n",
    "from gensim.corpora import Dictionary\n",
    "import matplotlib.pyplot as plt\n",
    "#!pip install wordcloud\n",
    "\n",
    "#os.listdir()\n",
    "#nltk.download('perluniprops')\n",
    "#nltk.download('nonbreaking_prefixes')\n",
    "#nltk.download('stopwords')\n",
    "#!pip install collections-extended\n"
   ]
  },
  {
   "cell_type": "code",
   "execution_count": 2,
   "metadata": {},
   "outputs": [
    {
     "name": "stdout",
     "output_type": "stream",
     "text": [
      "(242521, 8)\n",
      "(242521, 2)\n"
     ]
    }
   ],
   "source": [
    "data = pd.read_csv('prod_prod.csv')\n",
    "print(data.shape)\n",
    "data_text =  data[['id_Familia', 'des_Articulo']] #desde BQ me asegure que cada Familia tenga descripcion CHECAR \n",
    "print(data_text.shape)\n",
    "data_text = data_text.dropna().reset_index()"
   ]
  },
  {
   "cell_type": "code",
   "execution_count": 3,
   "metadata": {},
   "outputs": [
    {
     "name": "stdout",
     "output_type": "stream",
     "text": [
      "2664\n",
      "242521\n"
     ]
    }
   ],
   "source": [
    "print(len(set(data.id_Familia)))\n",
    "print(len(data.id_Familia))"
   ]
  },
  {
   "cell_type": "code",
   "execution_count": 4,
   "metadata": {},
   "outputs": [
    {
     "name": "stdout",
     "output_type": "stream",
     "text": [
      "       id_Familia Departamento       Clase       Familia  \\\n",
      "4099      1101063   CABALLEROS  ACCESORIOS       PAÑUELO   \n",
      "4100      1101063   CABALLEROS  ACCESORIOS       PAÑUELO   \n",
      "4101      1101063   CABALLEROS  ACCESORIOS       PAÑUELO   \n",
      "8336      1102413   CABALLEROS  CALCETERIA  CONTROL TOPS   \n",
      "15311     1104120   CABALLEROS      CAMISA   TALLA EXTRA   \n",
      "\n",
      "                   Categoria           Subcategoria  idu_ArticuloCodigo  \\\n",
      "4099   Caballeros Accesorios  Caballeros Accesorios              120149   \n",
      "4100   Caballeros Accesorios  Caballeros Accesorios              151039   \n",
      "4101   Caballeros Accesorios  Caballeros Accesorios              163211   \n",
      "8336   Interior y Calceteria  Interior y Calceteria              151988   \n",
      "15311     Caballero Exterior     Caballero Exterior              102156   \n",
      "\n",
      "      des_Articulo  \n",
      "4099           NaN  \n",
      "4100           NaN  \n",
      "4101           NaN  \n",
      "8336           NaN  \n",
      "15311          NaN  \n",
      "2664\n",
      "242521\n"
     ]
    }
   ],
   "source": [
    "# descriptivos \n",
    "faltan  = set(data.id_Familia).difference(set(data_text.id_Familia) ) \n",
    "faltan = np.array([ x for x in faltan] )\n",
    "faltan\n",
    "data_falta = data[ data.id_Familia.isin(list(faltan) )]  \n",
    "print(data_falta.head())\n",
    "print(len(set(data.id_Familia)))\n",
    "print(len(data.id_Familia))"
   ]
  },
  {
   "cell_type": "code",
   "execution_count": 5,
   "metadata": {},
   "outputs": [
    {
     "name": "stdout",
     "output_type": "stream",
     "text": [
      "2332\n",
      "364\n"
     ]
    },
    {
     "data": {
      "text/html": [
       "<div>\n",
       "<style scoped>\n",
       "    .dataframe tbody tr th:only-of-type {\n",
       "        vertical-align: middle;\n",
       "    }\n",
       "\n",
       "    .dataframe tbody tr th {\n",
       "        vertical-align: top;\n",
       "    }\n",
       "\n",
       "    .dataframe thead th {\n",
       "        text-align: right;\n",
       "    }\n",
       "</style>\n",
       "<table border=\"1\" class=\"dataframe\">\n",
       "  <thead>\n",
       "    <tr style=\"text-align: right;\">\n",
       "      <th></th>\n",
       "      <th>id_Familia</th>\n",
       "      <th>Departamento</th>\n",
       "      <th>0</th>\n",
       "    </tr>\n",
       "  </thead>\n",
       "  <tbody>\n",
       "    <tr>\n",
       "      <th>0</th>\n",
       "      <td>1101063</td>\n",
       "      <td>CABALLEROS</td>\n",
       "      <td>3</td>\n",
       "    </tr>\n",
       "    <tr>\n",
       "      <th>1</th>\n",
       "      <td>1102413</td>\n",
       "      <td>CABALLEROS</td>\n",
       "      <td>1</td>\n",
       "    </tr>\n",
       "    <tr>\n",
       "      <th>2</th>\n",
       "      <td>1104120</td>\n",
       "      <td>CABALLEROS</td>\n",
       "      <td>13</td>\n",
       "    </tr>\n",
       "    <tr>\n",
       "      <th>3</th>\n",
       "      <td>1105246</td>\n",
       "      <td>CABALLEROS</td>\n",
       "      <td>8</td>\n",
       "    </tr>\n",
       "    <tr>\n",
       "      <th>4</th>\n",
       "      <td>1106035</td>\n",
       "      <td>CABALLEROS</td>\n",
       "      <td>8</td>\n",
       "    </tr>\n",
       "    <tr>\n",
       "      <th>...</th>\n",
       "      <td>...</td>\n",
       "      <td>...</td>\n",
       "      <td>...</td>\n",
       "    </tr>\n",
       "    <tr>\n",
       "      <th>359</th>\n",
       "      <td>2902001</td>\n",
       "      <td>OPTICA</td>\n",
       "      <td>5</td>\n",
       "    </tr>\n",
       "    <tr>\n",
       "      <th>360</th>\n",
       "      <td>2985002</td>\n",
       "      <td>OPTICA</td>\n",
       "      <td>3</td>\n",
       "    </tr>\n",
       "    <tr>\n",
       "      <th>361</th>\n",
       "      <td>2985003</td>\n",
       "      <td>OPTICA</td>\n",
       "      <td>6</td>\n",
       "    </tr>\n",
       "    <tr>\n",
       "      <th>362</th>\n",
       "      <td>2995004</td>\n",
       "      <td>OPTICA</td>\n",
       "      <td>12</td>\n",
       "    </tr>\n",
       "    <tr>\n",
       "      <th>363</th>\n",
       "      <td>2996005</td>\n",
       "      <td>OPTICA</td>\n",
       "      <td>10</td>\n",
       "    </tr>\n",
       "  </tbody>\n",
       "</table>\n",
       "<p>364 rows × 3 columns</p>\n",
       "</div>"
      ],
      "text/plain": [
       "     id_Familia Departamento   0\n",
       "0       1101063   CABALLEROS   3\n",
       "1       1102413   CABALLEROS   1\n",
       "2       1104120   CABALLEROS  13\n",
       "3       1105246   CABALLEROS   8\n",
       "4       1106035   CABALLEROS   8\n",
       "..          ...          ...  ..\n",
       "359     2902001       OPTICA   5\n",
       "360     2985002       OPTICA   3\n",
       "361     2985003       OPTICA   6\n",
       "362     2995004       OPTICA  12\n",
       "363     2996005       OPTICA  10\n",
       "\n",
       "[364 rows x 3 columns]"
      ]
     },
     "execution_count": 5,
     "metadata": {},
     "output_type": "execute_result"
    }
   ],
   "source": [
    "print(len(data_falta) ) \n",
    "print(len(set(data_falta.id_Familia)) ) \n",
    "data_falta[['id_Familia', 'Departamento']].groupby(['id_Familia', 'Departamento']).size().reset_index()"
   ]
  },
  {
   "cell_type": "code",
   "execution_count": 6,
   "metadata": {},
   "outputs": [
    {
     "name": "stdout",
     "output_type": "stream",
     "text": [
      "2300\n",
      "2664\n",
      "242521\n"
     ]
    }
   ],
   "source": [
    "print(len(set(data_text.id_Familia)) )# aqui hay pedo ver que onda con las familias que su descripcion esta en blanco \n",
    "len(data_text.id_Familia)\n",
    "print(len(set(data.id_Familia)))\n",
    "print(len(data.id_Familia))"
   ]
  },
  {
   "cell_type": "code",
   "execution_count": null,
   "metadata": {},
   "outputs": [],
   "source": [
    "data_text = data_text.groupby(['id_Familia'])['des_Articulo'].apply(lambda x: ' | '.join(x)).reset_index()\n",
    "data_text.columns = ['id_Familia', 'des_Familia']\n",
    "data_text.des_Familia = data_text.des_Familia.apply(lambda x: x.lower())\n",
    "data_text"
   ]
  },
  {
   "cell_type": "code",
   "execution_count": null,
   "metadata": {},
   "outputs": [],
   "source": [
    "toktok = ToktokTokenizer()\n",
    "stemmer = SnowballStemmer(\"spanish\")\n",
    "stops_spa = stopwords.words('spanish')\n"
   ]
  },
  {
   "cell_type": "code",
   "execution_count": null,
   "metadata": {},
   "outputs": [],
   "source": [
    "def limpia ( indice):\n",
    "    #tokens_clean = [ stemmer.stem(x) for x in toktok.tokenize(  data_text.des_Familia[ indice ] ) if x.isalnum() and x not in stops_spa ]\n",
    "    tokens_clean = [ x for x in toktok.tokenize(  data_text.des_Familia[ indice ] ) if x.isalnum() and x not in stops_spa ]\n",
    "    \n",
    "    return(tokens_clean)\n",
    "    "
   ]
  },
  {
   "cell_type": "code",
   "execution_count": null,
   "metadata": {},
   "outputs": [],
   "source": [
    "corpus = list(map( lambda x: limpia(x), data_text.index ) ) \n",
    "texto = reduce(lambda x, y: x+y, corpus)\n",
    "bolsa = Counter(texto)"
   ]
  },
  {
   "cell_type": "code",
   "execution_count": null,
   "metadata": {},
   "outputs": [],
   "source": [
    "wc = WordCloud(background_color=\"white\", max_words=100)\n",
    "wc.generate_from_frequencies(bolsa)\n",
    "plt.imshow(wc, interpolation=\"bilinear\")\n",
    "plt.axis(\"off\")\n",
    "plt.show()"
   ]
  },
  {
   "cell_type": "code",
   "execution_count": null,
   "metadata": {},
   "outputs": [],
   "source": [
    "demo = pd.DataFrame(data=bolsa.values(), columns=['y'])\n",
    "plt.hist( np.log( demo.y ) )\n",
    "print(demo.describe())"
   ]
  },
  {
   "cell_type": "code",
   "execution_count": null,
   "metadata": {},
   "outputs": [],
   "source": [
    "dct = Dictionary(corpus)  \n",
    "corpus_ = [dct.doc2bow(line) for line in corpus]  \n",
    "model = TfidfModel(corpus_)  \n",
    "embedings  = model[corpus_]  \n"
   ]
  },
  {
   "cell_type": "code",
   "execution_count": null,
   "metadata": {},
   "outputs": [],
   "source": [
    "a = model[ corpus_[2]]\n",
    "a"
   ]
  },
  {
   "cell_type": "code",
   "execution_count": null,
   "metadata": {},
   "outputs": [],
   "source": [
    "print(embedings[:5])"
   ]
  },
  {
   "cell_type": "code",
   "execution_count": null,
   "metadata": {},
   "outputs": [],
   "source": []
  },
  {
   "cell_type": "code",
   "execution_count": null,
   "metadata": {},
   "outputs": [],
   "source": []
  },
  {
   "cell_type": "code",
   "execution_count": null,
   "metadata": {},
   "outputs": [],
   "source": []
  }
 ],
 "metadata": {
  "kernelspec": {
   "display_name": "Python 3",
   "language": "python",
   "name": "python3"
  },
  "language_info": {
   "codemirror_mode": {
    "name": "ipython",
    "version": 3
   },
   "file_extension": ".py",
   "mimetype": "text/x-python",
   "name": "python",
   "nbconvert_exporter": "python",
   "pygments_lexer": "ipython3",
   "version": "3.7.6"
  }
 },
 "nbformat": 4,
 "nbformat_minor": 4
}
