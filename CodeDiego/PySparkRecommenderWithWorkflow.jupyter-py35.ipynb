{
 "cells": [
  {
   "cell_type": "markdown",
   "metadata": {},
   "source": [
    "# Workflow demonstration with a recommender engine on a sampled dataset from Transactions.csv using ALS Model\n",
    "### This is the notebook for deployment"
   ]
  },
  {
   "cell_type": "markdown",
   "metadata": {},
   "source": [
    "### Importing the libraries and starting the Spark Session"
   ]
  },
  {
   "cell_type": "code",
   "execution_count": 21,
   "metadata": {},
   "outputs": [],
   "source": [
    "import pyspark.sql.functions as sql_func\n",
    "from pyspark.sql.types import *\n",
    "from pyspark.ml.recommendation import ALS, ALSModel\n",
    "from pyspark.context import SparkContext \n",
    "from pyspark.sql.session import SparkSession\n",
    "from pyspark.mllib.evaluation import RegressionMetrics, RankingMetrics\n",
    "from pyspark.ml.evaluation import RegressionEvaluator"
   ]
  },
  {
   "cell_type": "code",
   "execution_count": 22,
   "metadata": {
    "collapsed": true
   },
   "outputs": [],
   "source": [
    "sc =SparkContext.getOrCreate()"
   ]
  },
  {
   "cell_type": "code",
   "execution_count": 23,
   "metadata": {},
   "outputs": [],
   "source": [
    "#from pyspark.context import \n",
    "spark = SparkSession(sc)"
   ]
  },
  {
   "cell_type": "markdown",
   "metadata": {},
   "source": [
    "### Add asset from remote connection "
   ]
  },
  {
   "cell_type": "code",
   "execution_count": 24,
   "metadata": {},
   "outputs": [
    {
     "name": "stdout",
     "output_type": "stream",
     "text": [
      "+-------+--------+---------+\n",
      "| ID_CTE|ID_CLAS1|FREQUENCY|\n",
      "+-------+--------+---------+\n",
      "|3973618|    1313|        1|\n",
      "|3973618|    1319|        5|\n",
      "|3973618|    1327|        2|\n",
      "|3973618|    2142|        1|\n",
      "|3973618|    2302|        1|\n",
      "+-------+--------+---------+\n",
      "only showing top 5 rows\n",
      "\n"
     ]
    }
   ],
   "source": [
    "import dsx_core_utils, requests, os, io\n",
    "from pyspark.sql import SparkSession\n",
    "\n",
    "final_stat = None\n",
    "dataSet = dsx_core_utils.get_remote_data_set_info('TRANSACTIONS')\n",
    "dataSource = dsx_core_utils.get_data_source_info(dataSet['datasource'])\n",
    "sparkSession = SparkSession(sc).builder.getOrCreate()\n",
    "# Load JDBC data to Spark dataframe\n",
    "dbTableOrQuery = '\"' + (dataSet['schema'] + '\".\"' if(len(dataSet['schema'].strip()) != 0) else '') + dataSet['table'] + '\"'\n",
    "if (dataSet['query']):\n",
    "    dbTableOrQuery = \"(\" + dataSet['query'] + \") TBL\"\n",
    "final_stat = sparkSession.read.format(\"jdbc\").option(\"url\", dataSource['URL']).option(\"dbtable\", dbTableOrQuery).option(\"user\",dataSource['user']).option(\"password\",dataSource['password']).load()\n",
    "final_stat.show(5)"
   ]
  },
  {
   "cell_type": "markdown",
   "metadata": {},
   "source": [
    "### Preparing data for the model"
   ]
  },
  {
   "cell_type": "code",
   "execution_count": 25,
   "metadata": {
    "collapsed": true
   },
   "outputs": [],
   "source": [
    "ratings = (final_stat\n",
    "    .select(\n",
    "        'ID_CTE',\n",
    "        'ID_CLAS1',\n",
    "        'FREQUENCY',\n",
    "    )\n",
    ").cache()"
   ]
  },
  {
   "cell_type": "code",
   "execution_count": 26,
   "metadata": {},
   "outputs": [
    {
     "data": {
      "text/plain": [
       "[('ID_CTE', 'int'), ('ID_CLAS1', 'int'), ('FREQUENCY', 'int')]"
      ]
     },
     "execution_count": 26,
     "metadata": {},
     "output_type": "execute_result"
    }
   ],
   "source": [
    "ratings.dtypes"
   ]
  },
  {
   "cell_type": "code",
   "execution_count": 27,
   "metadata": {},
   "outputs": [
    {
     "data": {
      "text/plain": [
       "DataFrame[ID_CTE: int, ID_CLAS1: int, FREQUENCY: int]"
      ]
     },
     "execution_count": 27,
     "metadata": {},
     "output_type": "execute_result"
    }
   ],
   "source": [
    "ratings.limit(10000)"
   ]
  },
  {
   "cell_type": "markdown",
   "metadata": {},
   "source": [
    "### Spliting the data set to test and train for measuring the performance of the ALS Model"
   ]
  },
  {
   "cell_type": "code",
   "execution_count": 28,
   "metadata": {
    "collapsed": true
   },
   "outputs": [],
   "source": [
    "(training, test) = ratings.randomSplit([0.8, 0.2])\n",
    "\n"
   ]
  },
  {
   "cell_type": "markdown",
   "metadata": {},
   "source": [
    "### Build the recommendation model using ALS on the training data\n"
   ]
  },
  {
   "cell_type": "code",
   "execution_count": 29,
   "metadata": {},
   "outputs": [
    {
     "name": "stdout",
     "output_type": "stream",
     "text": [
      "Root-mean-square error = 1.9599291408031267\n"
     ]
    }
   ],
   "source": [
    "# Note we set cold start strategy to 'drop' to ensure we don't get NaN evaluation metrics\n",
    "als = ALS(maxIter=2, regParam=0.01, \n",
    "          userCol=\"ID_CTE\", itemCol=\"ID_CLAS1\", ratingCol=\"FREQUENCY\",\n",
    "          coldStartStrategy=\"drop\",\n",
    "          implicitPrefs=True)\n",
    "\n",
    "model = als.fit(ratings)\n",
    "\n",
    "# Evaluate the model by computing the RMSE on the test data\n",
    "predictions = model.transform(test)\n",
    "evaluator = RegressionEvaluator(metricName=\"rmse\", labelCol=\"FREQUENCY\",\n",
    "                                predictionCol=\"prediction\")\n",
    "\n",
    "rmse = evaluator.evaluate(predictions)\n",
    "print(\"Root-mean-square error = \" + str(rmse))"
   ]
  },
  {
   "cell_type": "markdown",
   "metadata": {},
   "source": [
    "## Parameters of ALS Model in PySpark realization are following:\n",
    "\n",
    "##### NumBlocks is the number of blocks the users and items will be partitioned into in order to parallelize computation.\n",
    "##### rank is the number of latent factors in the model.\n",
    "##### maxIter is the maximum number of iterations to run.\n",
    "##### regParam specifies the regularization parameter in ALS.\n",
    "##### implicitPrefs specifies whether to use the explicit feedback ALS variant or one adapted for implicit feedback data (defaults to false which means using explicit feedback).\n",
    "##### alpha is a parameter applicable to the implicit feedback variant of ALS that governs the baseline confidence in preference observations (defaults to 1.0)"
   ]
  },
  {
   "cell_type": "markdown",
   "metadata": {},
   "source": [
    "###  Generate top 10 Item recommendations for each user\n",
    "\n"
   ]
  },
  {
   "cell_type": "code",
   "execution_count": 30,
   "metadata": {},
   "outputs": [
    {
     "data": {
      "text/plain": [
       "905251"
      ]
     },
     "execution_count": 30,
     "metadata": {},
     "output_type": "execute_result"
    }
   ],
   "source": [
    "userRecs = model.recommendForAllUsers(10)\n",
    "userRecs.count()\n",
    "\n"
   ]
  },
  {
   "cell_type": "code",
   "execution_count": 31,
   "metadata": {},
   "outputs": [
    {
     "data": {
      "text/plain": [
       "[Row(ID_CTE=3974081, recommendations=[Row(ID_CLAS1=2229, rating=0.9145445227622986), Row(ID_CLAS1=2224, rating=0.9050465822219849), Row(ID_CLAS1=2295, rating=0.8862479329109192), Row(ID_CLAS1=2210, rating=0.32449960708618164), Row(ID_CLAS1=2248, rating=0.2460334151983261), Row(ID_CLAS1=2299, rating=0.2302532196044922), Row(ID_CLAS1=2240, rating=0.22628401219844818), Row(ID_CLAS1=1868, rating=0.2160385549068451), Row(ID_CLAS1=2244, rating=0.21348370611667633), Row(ID_CLAS1=1774, rating=0.20316047966480255)]),\n",
       " Row(ID_CTE=3974508, recommendations=[Row(ID_CLAS1=1380, rating=1.3829349279403687), Row(ID_CLAS1=1105, rating=1.1871720552444458), Row(ID_CLAS1=1102, rating=1.1801692247390747), Row(ID_CLAS1=2224, rating=1.1721549034118652), Row(ID_CLAS1=2229, rating=1.1496870517730713), Row(ID_CLAS1=1319, rating=1.1332440376281738), Row(ID_CLAS1=1110, rating=1.128908634185791), Row(ID_CLAS1=1310, rating=1.1223106384277344), Row(ID_CLAS1=1864, rating=1.1146060228347778), Row(ID_CLAS1=1861, rating=1.096611738204956)]),\n",
       " Row(ID_CTE=3981339, recommendations=[Row(ID_CLAS1=2224, rating=0.8067072033882141), Row(ID_CLAS1=2229, rating=0.798323929309845), Row(ID_CLAS1=2295, rating=0.6788539290428162), Row(ID_CLAS1=1775, rating=0.3971961736679077), Row(ID_CLAS1=1868, rating=0.3470180630683899), Row(ID_CLAS1=1101, rating=0.3275982737541199), Row(ID_CLAS1=1860, rating=0.32545918226242065), Row(ID_CLAS1=1864, rating=0.3079453706741333), Row(ID_CLAS1=1776, rating=0.3020542562007904), Row(ID_CLAS1=1863, rating=0.27465081214904785)]),\n",
       " Row(ID_CTE=3982283, recommendations=[Row(ID_CLAS1=2224, rating=1.0376228094100952), Row(ID_CLAS1=2295, rating=1.0313286781311035), Row(ID_CLAS1=2229, rating=1.0254878997802734), Row(ID_CLAS1=1106, rating=0.977596640586853), Row(ID_CLAS1=1774, rating=0.6737444400787354), Row(ID_CLAS1=1110, rating=0.6511476635932922), Row(ID_CLAS1=1101, rating=0.6273643374443054), Row(ID_CLAS1=1105, rating=0.6106172204017639), Row(ID_CLAS1=1102, rating=0.5972618460655212), Row(ID_CLAS1=1104, rating=0.5840976238250732)]),\n",
       " Row(ID_CTE=3987554, recommendations=[Row(ID_CLAS1=1869, rating=0.7286801338195801), Row(ID_CLAS1=1867, rating=0.3862933814525604), Row(ID_CLAS1=1105, rating=0.2815314531326294), Row(ID_CLAS1=1857, rating=0.21452534198760986), Row(ID_CLAS1=2299, rating=0.16939347982406616), Row(ID_CLAS1=2295, rating=0.16482040286064148), Row(ID_CLAS1=2224, rating=0.16217884421348572), Row(ID_CLAS1=1290, rating=0.15946067869663239), Row(ID_CLAS1=1855, rating=0.15561901032924652), Row(ID_CLAS1=1835, rating=0.14071670174598694)]),\n",
       " Row(ID_CTE=4066352, recommendations=[Row(ID_CLAS1=1104, rating=0.5116007924079895), Row(ID_CLAS1=1867, rating=0.5017822980880737), Row(ID_CLAS1=1313, rating=0.4728981554508209), Row(ID_CLAS1=1101, rating=0.4592316746711731), Row(ID_CLAS1=1319, rating=0.4521314203739166), Row(ID_CLAS1=1102, rating=0.4254242777824402), Row(ID_CLAS1=1317, rating=0.4115048348903656), Row(ID_CLAS1=1106, rating=0.4018022418022156), Row(ID_CLAS1=1314, rating=0.3644997179508209), Row(ID_CLAS1=1387, rating=0.2902318835258484)]),\n",
       " Row(ID_CTE=4066441, recommendations=[Row(ID_CLAS1=1106, rating=1.1803323030471802), Row(ID_CLAS1=2224, rating=1.0687729120254517), Row(ID_CLAS1=1105, rating=0.9767187237739563), Row(ID_CLAS1=1869, rating=0.9398655891418457), Row(ID_CLAS1=2295, rating=0.9119406342506409), Row(ID_CLAS1=2229, rating=0.9102532863616943), Row(ID_CLAS1=1110, rating=0.8602310419082642), Row(ID_CLAS1=1867, rating=0.8592139482498169), Row(ID_CLAS1=1104, rating=0.8565037250518799), Row(ID_CLAS1=1101, rating=0.8531007170677185)]),\n",
       " Row(ID_CTE=4066743, recommendations=[Row(ID_CLAS1=1860, rating=0.014505851082503796), Row(ID_CLAS1=1774, rating=0.01161166001111269), Row(ID_CLAS1=1861, rating=0.011338372714817524), Row(ID_CLAS1=1775, rating=0.010065635666251183), Row(ID_CLAS1=1856, rating=0.010001005604863167), Row(ID_CLAS1=1862, rating=0.009420131333172321), Row(ID_CLAS1=1106, rating=0.00866028480231762), Row(ID_CLAS1=1742, rating=0.008178623393177986), Row(ID_CLAS1=2193, rating=0.00813909899443388), Row(ID_CLAS1=1835, rating=0.007764090783894062)]),\n",
       " Row(ID_CTE=4067936, recommendations=[Row(ID_CLAS1=2224, rating=0.8016027212142944), Row(ID_CLAS1=2229, rating=0.7932486534118652), Row(ID_CLAS1=2295, rating=0.7583290338516235), Row(ID_CLAS1=2210, rating=0.347804456949234), Row(ID_CLAS1=1868, rating=0.23552219569683075), Row(ID_CLAS1=2299, rating=0.18394511938095093), Row(ID_CLAS1=2248, rating=0.18336506187915802), Row(ID_CLAS1=2240, rating=0.17187874019145966), Row(ID_CLAS1=2121, rating=0.16863533854484558), Row(ID_CLAS1=1387, rating=0.15499094128608704)]),\n",
       " Row(ID_CTE=4069903, recommendations=[Row(ID_CLAS1=1860, rating=0.4706053137779236), Row(ID_CLAS1=1862, rating=0.2966884672641754), Row(ID_CLAS1=1861, rating=0.24493785202503204), Row(ID_CLAS1=1856, rating=0.22452661395072937), Row(ID_CLAS1=1313, rating=0.1833033263683319), Row(ID_CLAS1=1867, rating=0.16357111930847168), Row(ID_CLAS1=1835, rating=0.1314193457365036), Row(ID_CLAS1=1104, rating=0.1314125508069992), Row(ID_CLAS1=1102, rating=0.1300702691078186), Row(ID_CLAS1=1775, rating=0.12036330997943878)])]"
      ]
     },
     "execution_count": 31,
     "metadata": {},
     "output_type": "execute_result"
    }
   ],
   "source": [
    "userRecs.take(10)"
   ]
  },
  {
   "cell_type": "markdown",
   "metadata": {},
   "source": [
    "### Display the recommendations and get them in the correct format"
   ]
  },
  {
   "cell_type": "code",
   "execution_count": 32,
   "metadata": {},
   "outputs": [
    {
     "name": "stdout",
     "output_type": "stream",
     "text": [
      "+-------+-----------------+\n",
      "| ID_CTE|  recommendations|\n",
      "+-------+-----------------+\n",
      "|3974081| [2229,0.9145445]|\n",
      "|3974081| [2224,0.9050466]|\n",
      "|3974081|[2295,0.88624793]|\n",
      "|3974081| [2210,0.3244996]|\n",
      "|3974081|[2248,0.24603342]|\n",
      "|3974081|[2299,0.23025322]|\n",
      "|3974081|[2240,0.22628401]|\n",
      "|3974081|[1868,0.21603855]|\n",
      "|3974081| [2244,0.2134837]|\n",
      "|3974081|[1774,0.20316048]|\n",
      "|3974508| [1380,1.3829349]|\n",
      "|3974508|  [1105,1.187172]|\n",
      "|3974508| [1102,1.1801692]|\n",
      "|3974508| [2224,1.1721549]|\n",
      "|3974508|  [2229,1.149687]|\n",
      "|3974508|  [1319,1.133244]|\n",
      "|3974508| [1110,1.1289086]|\n",
      "|3974508| [1310,1.1223106]|\n",
      "|3974508|  [1864,1.114606]|\n",
      "|3974508| [1861,1.0966117]|\n",
      "+-------+-----------------+\n",
      "only showing top 20 rows\n",
      "\n"
     ]
    }
   ],
   "source": [
    "from pyspark.sql.functions import explode\n",
    "userRecs1=userRecs.withColumn(\"recommendations\", explode(userRecs.recommendations))\n",
    "userRecs1.show()"
   ]
  },
  {
   "cell_type": "markdown",
   "metadata": {},
   "source": [
    "####  Breaking down reach recommendation to separate columns"
   ]
  },
  {
   "cell_type": "code",
   "execution_count": 33,
   "metadata": {},
   "outputs": [],
   "source": [
    "import select as s\n"
   ]
  },
  {
   "cell_type": "code",
   "execution_count": 34,
   "metadata": {},
   "outputs": [],
   "source": [
    "\n",
    "userRecs1= userRecs1 \\\n",
    "  .select('ID_CTE', 'recommendations.*')    \n",
    "   "
   ]
  },
  {
   "cell_type": "markdown",
   "metadata": {},
   "source": [
    "### Display the results"
   ]
  },
  {
   "cell_type": "code",
   "execution_count": 35,
   "metadata": {},
   "outputs": [
    {
     "name": "stdout",
     "output_type": "stream",
     "text": [
      "+-------+--------+----------+\n",
      "| ID_CTE|ID_CLAS1|    rating|\n",
      "+-------+--------+----------+\n",
      "|3974081|    2229| 0.9145445|\n",
      "|3974081|    2224| 0.9050466|\n",
      "|3974081|    2295|0.88624793|\n",
      "|3974081|    2210| 0.3244996|\n",
      "|3974081|    2248|0.24603342|\n",
      "|3974081|    2299|0.23025322|\n",
      "|3974081|    2240|0.22628401|\n",
      "|3974081|    1868|0.21603855|\n",
      "|3974081|    2244| 0.2134837|\n",
      "|3974081|    1774|0.20316048|\n",
      "|3974508|    1380| 1.3829349|\n",
      "|3974508|    1105|  1.187172|\n",
      "|3974508|    1102| 1.1801692|\n",
      "|3974508|    2224| 1.1721549|\n",
      "|3974508|    2229|  1.149687|\n",
      "|3974508|    1319|  1.133244|\n",
      "|3974508|    1110| 1.1289086|\n",
      "|3974508|    1310| 1.1223106|\n",
      "|3974508|    1864|  1.114606|\n",
      "|3974508|    1861| 1.0966117|\n",
      "+-------+--------+----------+\n",
      "only showing top 20 rows\n",
      "\n"
     ]
    }
   ],
   "source": [
    "userRecs1.show() "
   ]
  },
  {
   "cell_type": "markdown",
   "metadata": {},
   "source": [
    "### Writing the Output back to the Remote Datasource"
   ]
  },
  {
   "cell_type": "code",
   "execution_count": 36,
   "metadata": {},
   "outputs": [],
   "source": [
    "new_table_name = 'RecommendationsResult'\n",
    "userRecs1.coalesce(1).write \\\n",
    "   .format(\"jdbc\") \\\n",
    "    .mode('overwrite') \\\n",
    "    .option(\"url\", dataSource['URL']) \\\n",
    "    .option(\"dbtable\", dataSet['schema']+\".\"+new_table_name) \\\n",
    "    .option(\"user\", dataSource['user']) \\\n",
    "    .option(\"password\", dataSource['password']) \\\n",
    "    .save()"
   ]
  },
  {
   "cell_type": "code",
   "execution_count": 37,
   "metadata": {
    "collapsed": true
   },
   "outputs": [],
   "source": [
    "from dsx_ml.ml import save\n"
   ]
  },
  {
   "cell_type": "code",
   "execution_count": 40,
   "metadata": {},
   "outputs": [
    {
     "data": {
      "text/plain": [
       "pyspark.ml.recommendation.ALSModel"
      ]
     },
     "execution_count": 40,
     "metadata": {},
     "output_type": "execute_result"
    }
   ],
   "source": [
    "type(model)"
   ]
  },
  {
   "cell_type": "code",
   "execution_count": 41,
   "metadata": {
    "collapsed": true
   },
   "outputs": [],
   "source": [
    "from pyspark.ml import Pipeline"
   ]
  },
  {
   "cell_type": "code",
   "execution_count": 42,
   "metadata": {
    "collapsed": true
   },
   "outputs": [],
   "source": [
    "pipeline = Pipeline(stages=[model])"
   ]
  },
  {
   "cell_type": "code",
   "execution_count": 43,
   "metadata": {
    "collapsed": true
   },
   "outputs": [],
   "source": [
    "model_alsWML = pipeline.fit(ratings)"
   ]
  },
  {
   "cell_type": "code",
   "execution_count": 46,
   "metadata": {},
   "outputs": [
    {
     "data": {
      "text/plain": [
       "{'path': '/user-home/1003/DSX_Projects/Recommender-engine/models/PySparkRecommenderPipeline/2',\n",
       " 'scoring_endpoint': 'https://dsxl-api/v3/project/score/Python35/spark-2.2/Recommender-engine/PySparkRecommenderPipeline/2'}"
      ]
     },
     "execution_count": 46,
     "metadata": {},
     "output_type": "execute_result"
    }
   ],
   "source": [
    "save(name = 'PySparkRecommenderPipeline',\n",
    "     model = model_alsWML,\n",
    "     test_data = ratings,\n",
    "     algorithm_type = 'Classification',\n",
    "     source='PySparkRecommenderWithWorkflow.ipynb',\n",
    "     description='Recommender using PySpark')"
   ]
  },
  {
   "cell_type": "code",
   "execution_count": null,
   "metadata": {
    "collapsed": true
   },
   "outputs": [],
   "source": []
  }
 ],
 "metadata": {
  "kernelspec": {
   "display_name": "Python 3",
   "language": "python",
   "name": "python3"
  },
  "language_info": {
   "codemirror_mode": {
    "name": "ipython",
    "version": 3
   },
   "file_extension": ".py",
   "mimetype": "text/x-python",
   "name": "python",
   "nbconvert_exporter": "python",
   "pygments_lexer": "ipython3",
   "version": "3.7.6"
  }
 },
 "nbformat": 4,
 "nbformat_minor": 2
}
